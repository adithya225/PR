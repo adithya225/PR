{
 "cells": [
  {
   "cell_type": "code",
   "execution_count": 1,
   "metadata": {},
   "outputs": [],
   "source": [
    "import numpy as np\n",
    "import pandas as pd"
   ]
  },
  {
   "cell_type": "code",
   "execution_count": 2,
   "metadata": {},
   "outputs": [],
   "source": [
    "cd=pd.read_csv('predcars1.csv')"
   ]
  },
  {
   "cell_type": "code",
   "execution_count": 3,
   "metadata": {},
   "outputs": [
    {
     "data": {
      "text/plain": [
       "man     252619\n",
       "auto     83531\n",
       "Name: transmission, dtype: int64"
      ]
     },
     "execution_count": 3,
     "metadata": {},
     "output_type": "execute_result"
    }
   ],
   "source": [
    "cd[\"transmission\"].value_counts()"
   ]
  },
  {
   "cell_type": "code",
   "execution_count": 4,
   "metadata": {},
   "outputs": [],
   "source": [
    "cd = cd[cd['seat_count'] != 'None']\n",
    "cd = cd[cd['door_count'] != 'None']"
   ]
  },
  {
   "cell_type": "code",
   "execution_count": 5,
   "metadata": {},
   "outputs": [
    {
     "data": {
      "text/plain": [
       "5     217298\n",
       "4      33915\n",
       "7      12720\n",
       "2       9167\n",
       "3       1936\n",
       "6       1461\n",
       "9       1111\n",
       "8        722\n",
       "1         55\n",
       "10         6\n",
       "12         4\n",
       "14         3\n",
       "17         3\n",
       "15         1\n",
       "74         1\n",
       "20         1\n",
       "11         1\n",
       "56         1\n",
       "18         1\n",
       "13         1\n",
       "50         1\n",
       "54         1\n",
       "Name: seat_count, dtype: int64"
      ]
     },
     "execution_count": 5,
     "metadata": {},
     "output_type": "execute_result"
    }
   ],
   "source": [
    "cd[\"seat_count\"].value_counts()"
   ]
  },
  {
   "cell_type": "code",
   "execution_count": 6,
   "metadata": {},
   "outputs": [
    {
     "data": {
      "text/plain": [
       "0"
      ]
     },
     "execution_count": 6,
     "metadata": {},
     "output_type": "execute_result"
    }
   ],
   "source": [
    "cd[\"maker\"].isnull().sum()"
   ]
  },
  {
   "cell_type": "code",
   "execution_count": 7,
   "metadata": {},
   "outputs": [
    {
     "data": {
      "text/plain": [
       "opel             39254\n",
       "audi             38488\n",
       "ford             33146\n",
       "skoda            30200\n",
       "fiat             12301\n",
       "seat             12002\n",
       "toyota           11649\n",
       "citroen          10365\n",
       "bmw               9959\n",
       "nissan            9552\n",
       "hyundai           9165\n",
       "mazda             7288\n",
       "volvo             6591\n",
       "kia               6165\n",
       "mini              5576\n",
       "smart             4889\n",
       "mitsubishi        4396\n",
       "porsche           4166\n",
       "honda             4039\n",
       "suzuki            3937\n",
       "mercedes-benz     3711\n",
       "jeep              2415\n",
       "chevrolet         2121\n",
       "subaru            1292\n",
       "jaguar            1261\n",
       "lancia            1193\n",
       "chrysler          1082\n",
       "dodge              710\n",
       "lexus              544\n",
       "maserati           285\n",
       "rover              217\n",
       "bentley            172\n",
       "hummer              77\n",
       "lamborghini         74\n",
       "isuzu               73\n",
       "lotus               54\n",
       "tesla                1\n",
       "Name: maker, dtype: int64"
      ]
     },
     "execution_count": 7,
     "metadata": {},
     "output_type": "execute_result"
    }
   ],
   "source": [
    "## 36 makers\n",
    "\n",
    "cd[\"maker\"].value_counts()"
   ]
  },
  {
   "cell_type": "code",
   "execution_count": 8,
   "metadata": {},
   "outputs": [
    {
     "data": {
      "text/html": [
       "<div>\n",
       "<style scoped>\n",
       "    .dataframe tbody tr th:only-of-type {\n",
       "        vertical-align: middle;\n",
       "    }\n",
       "\n",
       "    .dataframe tbody tr th {\n",
       "        vertical-align: top;\n",
       "    }\n",
       "\n",
       "    .dataframe thead th {\n",
       "        text-align: right;\n",
       "    }\n",
       "</style>\n",
       "<table border=\"1\" class=\"dataframe\">\n",
       "  <thead>\n",
       "    <tr style=\"text-align: right;\">\n",
       "      <th></th>\n",
       "      <th>Unnamed: 0</th>\n",
       "      <th>maker</th>\n",
       "      <th>model</th>\n",
       "      <th>mileage</th>\n",
       "      <th>engine_power</th>\n",
       "      <th>transmission</th>\n",
       "      <th>door_count</th>\n",
       "      <th>seat_count</th>\n",
       "      <th>fuel_type</th>\n",
       "      <th>price_eur</th>\n",
       "      <th>price_inr</th>\n",
       "    </tr>\n",
       "  </thead>\n",
       "  <tbody>\n",
       "    <tr>\n",
       "      <th>0</th>\n",
       "      <td>0</td>\n",
       "      <td>ford</td>\n",
       "      <td>galaxy</td>\n",
       "      <td>151000.0</td>\n",
       "      <td>103.0</td>\n",
       "      <td>man</td>\n",
       "      <td>5</td>\n",
       "      <td>7</td>\n",
       "      <td>diesel</td>\n",
       "      <td>10584.75</td>\n",
       "      <td>833019.825</td>\n",
       "    </tr>\n",
       "    <tr>\n",
       "      <th>1</th>\n",
       "      <td>1</td>\n",
       "      <td>skoda</td>\n",
       "      <td>octavia</td>\n",
       "      <td>143476.0</td>\n",
       "      <td>81.0</td>\n",
       "      <td>man</td>\n",
       "      <td>5</td>\n",
       "      <td>5</td>\n",
       "      <td>diesel</td>\n",
       "      <td>8882.31</td>\n",
       "      <td>699037.797</td>\n",
       "    </tr>\n",
       "    <tr>\n",
       "      <th>2</th>\n",
       "      <td>3</td>\n",
       "      <td>skoda</td>\n",
       "      <td>fabia</td>\n",
       "      <td>111970.0</td>\n",
       "      <td>47.0</td>\n",
       "      <td>man</td>\n",
       "      <td>5</td>\n",
       "      <td>5</td>\n",
       "      <td>gasoline</td>\n",
       "      <td>2960.77</td>\n",
       "      <td>233012.599</td>\n",
       "    </tr>\n",
       "    <tr>\n",
       "      <th>3</th>\n",
       "      <td>4</td>\n",
       "      <td>skoda</td>\n",
       "      <td>fabia</td>\n",
       "      <td>128886.0</td>\n",
       "      <td>47.0</td>\n",
       "      <td>man</td>\n",
       "      <td>5</td>\n",
       "      <td>5</td>\n",
       "      <td>gasoline</td>\n",
       "      <td>2738.71</td>\n",
       "      <td>215536.477</td>\n",
       "    </tr>\n",
       "    <tr>\n",
       "      <th>4</th>\n",
       "      <td>5</td>\n",
       "      <td>skoda</td>\n",
       "      <td>fabia</td>\n",
       "      <td>140932.0</td>\n",
       "      <td>40.0</td>\n",
       "      <td>man</td>\n",
       "      <td>5</td>\n",
       "      <td>5</td>\n",
       "      <td>gasoline</td>\n",
       "      <td>1628.42</td>\n",
       "      <td>128156.654</td>\n",
       "    </tr>\n",
       "  </tbody>\n",
       "</table>\n",
       "</div>"
      ],
      "text/plain": [
       "   Unnamed: 0  maker    model   mileage  engine_power transmission door_count  \\\n",
       "0           0   ford   galaxy  151000.0         103.0          man          5   \n",
       "1           1  skoda  octavia  143476.0          81.0          man          5   \n",
       "2           3  skoda    fabia  111970.0          47.0          man          5   \n",
       "3           4  skoda    fabia  128886.0          47.0          man          5   \n",
       "4           5  skoda    fabia  140932.0          40.0          man          5   \n",
       "\n",
       "  seat_count fuel_type  price_eur   price_inr  \n",
       "0          7    diesel   10584.75  833019.825  \n",
       "1          5    diesel    8882.31  699037.797  \n",
       "2          5  gasoline    2960.77  233012.599  \n",
       "3          5  gasoline    2738.71  215536.477  \n",
       "4          5  gasoline    1628.42  128156.654  "
      ]
     },
     "execution_count": 8,
     "metadata": {},
     "output_type": "execute_result"
    }
   ],
   "source": [
    "cd.head()"
   ]
  },
  {
   "cell_type": "code",
   "execution_count": 9,
   "metadata": {},
   "outputs": [
    {
     "data": {
      "text/plain": [
       "opel             39254\n",
       "audi             38488\n",
       "ford             33146\n",
       "skoda            30200\n",
       "fiat             12301\n",
       "seat             12002\n",
       "toyota           11649\n",
       "citroen          10365\n",
       "bmw               9959\n",
       "nissan            9552\n",
       "hyundai           9165\n",
       "mazda             7288\n",
       "volvo             6591\n",
       "kia               6165\n",
       "mini              5576\n",
       "smart             4889\n",
       "mitsubishi        4396\n",
       "porsche           4166\n",
       "honda             4039\n",
       "suzuki            3937\n",
       "mercedes-benz     3711\n",
       "jeep              2415\n",
       "chevrolet         2121\n",
       "subaru            1292\n",
       "jaguar            1261\n",
       "lancia            1193\n",
       "chrysler          1082\n",
       "dodge              710\n",
       "lexus              544\n",
       "maserati           285\n",
       "rover              217\n",
       "bentley            172\n",
       "hummer              77\n",
       "lamborghini         74\n",
       "isuzu               73\n",
       "lotus               54\n",
       "tesla                1\n",
       "Name: maker, dtype: int64"
      ]
     },
     "execution_count": 9,
     "metadata": {},
     "output_type": "execute_result"
    }
   ],
   "source": [
    "cd['maker'].value_counts()"
   ]
  },
  {
   "cell_type": "code",
   "execution_count": 10,
   "metadata": {},
   "outputs": [],
   "source": [
    "cd= cd.drop(['mileage','price_eur'], axis =1)"
   ]
  },
  {
   "cell_type": "code",
   "execution_count": 11,
   "metadata": {},
   "outputs": [
    {
     "data": {
      "text/plain": [
       "gasoline    162226\n",
       "diesel      116184\n",
       "Name: fuel_type, dtype: int64"
      ]
     },
     "execution_count": 11,
     "metadata": {},
     "output_type": "execute_result"
    }
   ],
   "source": [
    "cd['fuel_type'].value_counts()"
   ]
  },
  {
   "cell_type": "code",
   "execution_count": 12,
   "metadata": {},
   "outputs": [
    {
     "data": {
      "text/html": [
       "<div>\n",
       "<style scoped>\n",
       "    .dataframe tbody tr th:only-of-type {\n",
       "        vertical-align: middle;\n",
       "    }\n",
       "\n",
       "    .dataframe tbody tr th {\n",
       "        vertical-align: top;\n",
       "    }\n",
       "\n",
       "    .dataframe thead th {\n",
       "        text-align: right;\n",
       "    }\n",
       "</style>\n",
       "<table border=\"1\" class=\"dataframe\">\n",
       "  <thead>\n",
       "    <tr style=\"text-align: right;\">\n",
       "      <th></th>\n",
       "      <th>Unnamed: 0</th>\n",
       "      <th>maker</th>\n",
       "      <th>model</th>\n",
       "      <th>engine_power</th>\n",
       "      <th>transmission</th>\n",
       "      <th>door_count</th>\n",
       "      <th>seat_count</th>\n",
       "      <th>fuel_type</th>\n",
       "      <th>price_inr</th>\n",
       "    </tr>\n",
       "  </thead>\n",
       "  <tbody>\n",
       "    <tr>\n",
       "      <th>0</th>\n",
       "      <td>0</td>\n",
       "      <td>ford</td>\n",
       "      <td>galaxy</td>\n",
       "      <td>103.0</td>\n",
       "      <td>man</td>\n",
       "      <td>5</td>\n",
       "      <td>7</td>\n",
       "      <td>diesel</td>\n",
       "      <td>833019.825</td>\n",
       "    </tr>\n",
       "    <tr>\n",
       "      <th>1</th>\n",
       "      <td>1</td>\n",
       "      <td>skoda</td>\n",
       "      <td>octavia</td>\n",
       "      <td>81.0</td>\n",
       "      <td>man</td>\n",
       "      <td>5</td>\n",
       "      <td>5</td>\n",
       "      <td>diesel</td>\n",
       "      <td>699037.797</td>\n",
       "    </tr>\n",
       "    <tr>\n",
       "      <th>2</th>\n",
       "      <td>3</td>\n",
       "      <td>skoda</td>\n",
       "      <td>fabia</td>\n",
       "      <td>47.0</td>\n",
       "      <td>man</td>\n",
       "      <td>5</td>\n",
       "      <td>5</td>\n",
       "      <td>gasoline</td>\n",
       "      <td>233012.599</td>\n",
       "    </tr>\n",
       "    <tr>\n",
       "      <th>3</th>\n",
       "      <td>4</td>\n",
       "      <td>skoda</td>\n",
       "      <td>fabia</td>\n",
       "      <td>47.0</td>\n",
       "      <td>man</td>\n",
       "      <td>5</td>\n",
       "      <td>5</td>\n",
       "      <td>gasoline</td>\n",
       "      <td>215536.477</td>\n",
       "    </tr>\n",
       "    <tr>\n",
       "      <th>4</th>\n",
       "      <td>5</td>\n",
       "      <td>skoda</td>\n",
       "      <td>fabia</td>\n",
       "      <td>40.0</td>\n",
       "      <td>man</td>\n",
       "      <td>5</td>\n",
       "      <td>5</td>\n",
       "      <td>gasoline</td>\n",
       "      <td>128156.654</td>\n",
       "    </tr>\n",
       "    <tr>\n",
       "      <th>...</th>\n",
       "      <td>...</td>\n",
       "      <td>...</td>\n",
       "      <td>...</td>\n",
       "      <td>...</td>\n",
       "      <td>...</td>\n",
       "      <td>...</td>\n",
       "      <td>...</td>\n",
       "      <td>...</td>\n",
       "      <td>...</td>\n",
       "    </tr>\n",
       "    <tr>\n",
       "      <th>336140</th>\n",
       "      <td>1048500</td>\n",
       "      <td>opel</td>\n",
       "      <td>astra</td>\n",
       "      <td>92.0</td>\n",
       "      <td>man</td>\n",
       "      <td>4</td>\n",
       "      <td>5</td>\n",
       "      <td>diesel</td>\n",
       "      <td>633605.043</td>\n",
       "    </tr>\n",
       "    <tr>\n",
       "      <th>336141</th>\n",
       "      <td>1048503</td>\n",
       "      <td>opel</td>\n",
       "      <td>insignia</td>\n",
       "      <td>239.0</td>\n",
       "      <td>auto</td>\n",
       "      <td>4</td>\n",
       "      <td>5</td>\n",
       "      <td>gasoline</td>\n",
       "      <td>2181332.622</td>\n",
       "    </tr>\n",
       "    <tr>\n",
       "      <th>336142</th>\n",
       "      <td>1048511</td>\n",
       "      <td>citroen</td>\n",
       "      <td>c4</td>\n",
       "      <td>80.0</td>\n",
       "      <td>man</td>\n",
       "      <td>2</td>\n",
       "      <td>5</td>\n",
       "      <td>gasoline</td>\n",
       "      <td>306175.267</td>\n",
       "    </tr>\n",
       "    <tr>\n",
       "      <th>336147</th>\n",
       "      <td>1048568</td>\n",
       "      <td>skoda</td>\n",
       "      <td>octavia</td>\n",
       "      <td>59.0</td>\n",
       "      <td>man</td>\n",
       "      <td>5</td>\n",
       "      <td>5</td>\n",
       "      <td>gasoline</td>\n",
       "      <td>579618.417</td>\n",
       "    </tr>\n",
       "    <tr>\n",
       "      <th>336148</th>\n",
       "      <td>1048571</td>\n",
       "      <td>subaru</td>\n",
       "      <td>legacy</td>\n",
       "      <td>121.0</td>\n",
       "      <td>auto</td>\n",
       "      <td>5</td>\n",
       "      <td>5</td>\n",
       "      <td>gasoline</td>\n",
       "      <td>404859.558</td>\n",
       "    </tr>\n",
       "  </tbody>\n",
       "</table>\n",
       "<p>278410 rows × 9 columns</p>\n",
       "</div>"
      ],
      "text/plain": [
       "        Unnamed: 0    maker     model  engine_power transmission door_count  \\\n",
       "0                0     ford    galaxy         103.0          man          5   \n",
       "1                1    skoda   octavia          81.0          man          5   \n",
       "2                3    skoda     fabia          47.0          man          5   \n",
       "3                4    skoda     fabia          47.0          man          5   \n",
       "4                5    skoda     fabia          40.0          man          5   \n",
       "...            ...      ...       ...           ...          ...        ...   \n",
       "336140     1048500     opel     astra          92.0          man          4   \n",
       "336141     1048503     opel  insignia         239.0         auto          4   \n",
       "336142     1048511  citroen        c4          80.0          man          2   \n",
       "336147     1048568    skoda   octavia          59.0          man          5   \n",
       "336148     1048571   subaru    legacy         121.0         auto          5   \n",
       "\n",
       "       seat_count fuel_type    price_inr  \n",
       "0               7    diesel   833019.825  \n",
       "1               5    diesel   699037.797  \n",
       "2               5  gasoline   233012.599  \n",
       "3               5  gasoline   215536.477  \n",
       "4               5  gasoline   128156.654  \n",
       "...           ...       ...          ...  \n",
       "336140          5    diesel   633605.043  \n",
       "336141          5  gasoline  2181332.622  \n",
       "336142          5  gasoline   306175.267  \n",
       "336147          5  gasoline   579618.417  \n",
       "336148          5  gasoline   404859.558  \n",
       "\n",
       "[278410 rows x 9 columns]"
      ]
     },
     "execution_count": 12,
     "metadata": {},
     "output_type": "execute_result"
    }
   ],
   "source": [
    "cd"
   ]
  },
  {
   "cell_type": "code",
   "execution_count": 13,
   "metadata": {},
   "outputs": [
    {
     "data": {
      "text/plain": [
       "array([['ford', 103.0, 'man', '5', '7', 'diesel'],\n",
       "       ['skoda', 81.0, 'man', '5', '5', 'diesel'],\n",
       "       ['skoda', 47.0, 'man', '5', '5', 'gasoline'],\n",
       "       ...,\n",
       "       ['citroen', 80.0, 'man', '2', '5', 'gasoline'],\n",
       "       ['skoda', 59.0, 'man', '5', '5', 'gasoline'],\n",
       "       ['subaru', 121.0, 'auto', '5', '5', 'gasoline']], dtype=object)"
      ]
     },
     "execution_count": 13,
     "metadata": {},
     "output_type": "execute_result"
    }
   ],
   "source": [
    "x=cd.iloc[:,[1,3,4,5,6,7]].values\n",
    "y=cd.iloc[:, 8].values\n",
    "\n",
    "x"
   ]
  },
  {
   "cell_type": "code",
   "execution_count": 14,
   "metadata": {},
   "outputs": [],
   "source": [
    "from sklearn.preprocessing import LabelEncoder\n",
    "lb = LabelEncoder()\n",
    "x[:,0]=lb.fit_transform(x[:,0])\n",
    "lb1 = LabelEncoder()\n",
    "x[:,2]=lb1.fit_transform(x[:,2])\n",
    "lb2 = LabelEncoder()\n",
    "x[:,5]=lb2.fit_transform(x[:,5])"
   ]
  },
  {
   "cell_type": "code",
   "execution_count": 15,
   "metadata": {},
   "outputs": [],
   "source": [
    "from sklearn.model_selection import train_test_split\n",
    "x_train, x_test, y_train, y_test = train_test_split(x, y, test_size = 0.2)"
   ]
  },
  {
   "cell_type": "code",
   "execution_count": 16,
   "metadata": {},
   "outputs": [],
   "source": [
    "from sklearn import datasets, linear_model\n",
    "from sklearn.metrics import mean_squared_error, r2_score"
   ]
  },
  {
   "cell_type": "code",
   "execution_count": 17,
   "metadata": {},
   "outputs": [],
   "source": [
    "regr = linear_model.LinearRegression()"
   ]
  },
  {
   "cell_type": "code",
   "execution_count": 18,
   "metadata": {},
   "outputs": [
    {
     "data": {
      "text/plain": [
       "LinearRegression(copy_X=True, fit_intercept=True, n_jobs=None, normalize=False)"
      ]
     },
     "execution_count": 18,
     "metadata": {},
     "output_type": "execute_result"
    }
   ],
   "source": [
    "regr.fit(x_train, y_train)"
   ]
  },
  {
   "cell_type": "code",
   "execution_count": 22,
   "metadata": {},
   "outputs": [
    {
     "data": {
      "text/plain": [
       "array([1128805.08624594])"
      ]
     },
     "execution_count": 22,
     "metadata": {},
     "output_type": "execute_result"
    }
   ],
   "source": [
    "new_data=['audi',96,'man',3,2,'gasoline']\n",
    "new_data[0]=lb.transform([new_data[0]])[0]\n",
    "new_data[2]=lb1.transform([new_data[2]])[0]\n",
    "new_data[5]=lb2.transform([new_data[5]])[0]\n",
    "y_pred = regr.predict(x_test)\n",
    "regr.predict([new_data])"
   ]
  },
  {
   "cell_type": "code",
   "execution_count": 20,
   "metadata": {},
   "outputs": [
    {
     "name": "stdout",
     "output_type": "stream",
     "text": [
      "Coefficients: \n",
      " [   2884.01163562   15389.66027147 -165660.04099265  -53130.97154366\n",
      "  -74144.61492828 -148274.14890124]\n",
      "Mean squared error: 829902545698.26\n",
      "Variance score: 0.44\n"
     ]
    }
   ],
   "source": [
    "print('Coefficients: \\n', regr.coef_)\n",
    "print(\"Mean squared error: %.2f\" % mean_squared_error(y_test, y_pred))\n",
    "print('Variance score: %.2f' % r2_score(y_test, y_pred))"
   ]
  },
  {
   "cell_type": "code",
   "execution_count": 23,
   "metadata": {},
   "outputs": [],
   "source": [
    "import pickle\n",
    "pickle.dump(regr,open('linearmodel.pkl', 'wb'))\n",
    "pickle.dump(lb,open('lb','wb'))\n",
    "pickle.dump(lb1,open('lb1','wb'))\n",
    "pickle.dump(lb1,open('lb2','wb'))"
   ]
  },
  {
   "cell_type": "code",
   "execution_count": 24,
   "metadata": {},
   "outputs": [
    {
     "data": {
      "text/plain": [
       "RandomForestRegressor(bootstrap=True, ccp_alpha=0.0, criterion='mse',\n",
       "                      max_depth=None, max_features='auto', max_leaf_nodes=None,\n",
       "                      max_samples=None, min_impurity_decrease=0.0,\n",
       "                      min_impurity_split=None, min_samples_leaf=1,\n",
       "                      min_samples_split=2, min_weight_fraction_leaf=0.0,\n",
       "                      n_estimators=20, n_jobs=None, oob_score=False,\n",
       "                      random_state=0, verbose=0, warm_start=False)"
      ]
     },
     "execution_count": 24,
     "metadata": {},
     "output_type": "execute_result"
    }
   ],
   "source": [
    "from sklearn.ensemble import RandomForestRegressor\n",
    "regressor = RandomForestRegressor(n_estimators=20,random_state=0)\n",
    "regressor.fit(x_train,y_train)"
   ]
  },
  {
   "cell_type": "code",
   "execution_count": 25,
   "metadata": {},
   "outputs": [
    {
     "data": {
      "text/plain": [
       "array([1621976.67459522])"
      ]
     },
     "execution_count": 25,
     "metadata": {},
     "output_type": "execute_result"
    }
   ],
   "source": [
    "regressor.predict([new_data])"
   ]
  },
  {
   "cell_type": "code",
   "execution_count": 26,
   "metadata": {},
   "outputs": [],
   "source": [
    "import pickle\n",
    "pickle.dump(regressor,open('regressor.pkl','wb'))\n",
    "# pickle.dump(lb,open('lb','wb'))\n",
    "# pickle.dump(lb1,open('lb1','wb'))"
   ]
  },
  {
   "cell_type": "code",
   "execution_count": null,
   "metadata": {},
   "outputs": [],
   "source": []
  }
 ],
 "metadata": {
  "kernelspec": {
   "display_name": "Python 3",
   "language": "python",
   "name": "python3"
  },
  "language_info": {
   "codemirror_mode": {
    "name": "ipython",
    "version": 3
   },
   "file_extension": ".py",
   "mimetype": "text/x-python",
   "name": "python",
   "nbconvert_exporter": "python",
   "pygments_lexer": "ipython3",
   "version": "3.7.7"
  }
 },
 "nbformat": 4,
 "nbformat_minor": 4
}
